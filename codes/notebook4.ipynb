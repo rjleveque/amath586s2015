{
 "cells": [
  {
   "cell_type": "markdown",
   "metadata": {},
   "source": [
    "# Applied Math 586, Notebook 4\n",
    "\n",
    "###Illustration of plotting the stability region for a 1-step method\n",
    "\n",
    "The next cell sets things up so that `NumPy` and `matplotlib` are imported and plots appear inline."
   ]
  },
  {
   "cell_type": "code",
   "execution_count": null,
   "metadata": {
    "collapsed": false
   },
   "outputs": [],
   "source": [
    "%pylab inline"
   ]
  },
  {
   "cell_type": "markdown",
   "metadata": {},
   "source": [
    "This general function evaluates the polynomial or rational function $R(z)$ on a fine grid in the complex plane and uses `contourf` to plot the region where $|R(z)| \\leq 1$:"
   ]
  },
  {
   "cell_type": "code",
   "execution_count": null,
   "metadata": {
    "collapsed": false
   },
   "outputs": [],
   "source": [
    "def plotS(R, axisbox = [-2, 2, -2, 2]):\n",
    "    nptsx = 501\n",
    "    nptsy = 501\n",
    "    xa, xb, ya, yb = axisbox\n",
    "    x = linspace(xa,xb,nptsx)\n",
    "    y = linspace(ya,yb,nptsy)\n",
    "    X,Y = meshgrid(x,y)\n",
    "    Z = X + 1j*Y\n",
    "    Rabs = abs(R(Z))\n",
    "    levels = [-1e9,1,1e9]\n",
    "    Sregion_color = [0.8, 0.8, 1.]   # RGB \n",
    "    contourf(X,Y,Rabs,levels,colors=[Sregion_color,'w'])\n",
    "    contour(X,Y,Rabs,[1],colors='k') # boundary\n",
    "    \n",
    "    # plot axes\n",
    "    plot([xa, xb], [0, 0], 'k')\n",
    "    plot([0, 0], [ya, yb], 'k')\n",
    "    axis(axisbox)\n",
    "    axis('scaled')  # so circles are circular"
   ]
  },
  {
   "cell_type": "markdown",
   "metadata": {},
   "source": [
    "### Example: Third order Taylor series method"
   ]
  },
  {
   "cell_type": "code",
   "execution_count": null,
   "metadata": {
    "collapsed": false
   },
   "outputs": [],
   "source": [
    "R = lambda z: 1 + z + 0.5*z**2 + 1./6. * z**3\n",
    "axisbox = [-4,1,-3,3]\n",
    "plotS(R, axisbox)"
   ]
  },
  {
   "cell_type": "markdown",
   "metadata": {},
   "source": [
    "### Example: Backward Euler"
   ]
  },
  {
   "cell_type": "code",
   "execution_count": null,
   "metadata": {
    "collapsed": false
   },
   "outputs": [],
   "source": [
    "numpy.seterr(all='ignore')  # ignore divide by zero errors\n",
    "R = lambda z: 1./(1.-z)\n",
    "plotS(R,[-1,3,-2,2])"
   ]
  }
 ],
 "metadata": {
  "kernelspec": {
   "display_name": "Python 2",
   "language": "python",
   "name": "python2"
  },
  "language_info": {
   "codemirror_mode": {
    "name": "ipython",
    "version": 2
   },
   "file_extension": ".py",
   "mimetype": "text/x-python",
   "name": "python",
   "nbconvert_exporter": "python",
   "pygments_lexer": "ipython2",
   "version": "2.7.9"
  }
 },
 "nbformat": 4,
 "nbformat_minor": 0
}
